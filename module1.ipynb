{
 "cells": [
  {
   "cell_type": "code",
   "execution_count": null,
   "id": "6e50c5ee",
   "metadata": {},
   "outputs": [],
   "source": [
    "#Q.1 What is Software?\n",
    "Software means collection of computer programs and related documents\n",
    "\n",
    "\n",
    "#Q.2 What are the types of Applications?\n",
    "total 3 types of Applications\n",
    "01. Web Applications\n",
    "02. Mobile Applications\n",
    "03. Desktop Applications\n",
    "\n",
    "\n",
    "#Q.3 What is programing?\n",
    "programing means collection of instruction and task perform by computer.\n",
    "\n",
    "\n",
    "#Q.4 What is Python?\n",
    "Python is a computer programming language.\n",
    "we can build Websites,Applications,software and also use for Data Analytics."
   ]
  }
 ],
 "metadata": {
  "kernelspec": {
   "display_name": "Python 3 (ipykernel)",
   "language": "python",
   "name": "python3"
  },
  "language_info": {
   "codemirror_mode": {
    "name": "ipython",
    "version": 3
   },
   "file_extension": ".py",
   "mimetype": "text/x-python",
   "name": "python",
   "nbconvert_exporter": "python",
   "pygments_lexer": "ipython3",
   "version": "3.9.13"
  }
 },
 "nbformat": 4,
 "nbformat_minor": 5
}
